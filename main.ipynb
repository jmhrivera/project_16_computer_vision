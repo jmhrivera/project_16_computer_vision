{
 "cells": [
  {
   "cell_type": "markdown",
   "metadata": {
    "deletable": false,
    "editable": false,
    "tags": [
     "df89053c-55da-4946-b602-c3baf619b53f"
    ]
   },
   "source": [
    "## Inicialización"
   ]
  },
  {
   "cell_type": "code",
   "execution_count": 35,
   "metadata": {},
   "outputs": [],
   "source": [
    "from PIL import Image\n",
    "from tensorflow.keras.preprocessing.image import ImageDataGenerator\n",
    "from tensorflow.keras.applications.resnet import ResNet50\n",
    "from tensorflow.keras.models import Sequential\n",
    "from tensorflow.keras.layers import GlobalAveragePooling2D, Dense, Dropout, Flatten\n",
    "from tensorflow.keras.optimizers import Adam\n",
    "from tensorflow.keras import Input\n",
    "\n",
    "import os\n",
    "import numpy as np\n",
    "import pandas as pd\n",
    "import matplotlib.pyplot as plt\n",
    "import pandas as pd\n",
    "import tensorflow as tf\n"
   ]
  },
  {
   "cell_type": "markdown",
   "metadata": {},
   "source": [
    "## Cargar datos"
   ]
  },
  {
   "cell_type": "markdown",
   "metadata": {},
   "source": [
    "El conjunto de datos se almacena en la carpeta `/datasets/faces/`\n",
    "- La carpeta `final_files` con 7600 fotos\n",
    "- El archivo `labels.csv` con leyendas, con dos columnas: `file_name` y `real_age`\n",
    "\n",
    "Dado que el número de archivos de imágenes es bastante elevado, se recomienda evitar leerlos todos a la vez, ya que esto consumiría muchos recursos computacionales. Te recomendamos crear un generador con ImageDataGenerator. Este método se explicó en el capítulo 3, lección 7 de este curso.\n",
    "\n",
    "El archivo de etiqueta se puede cargar como un archivo CSV habitual."
   ]
  },
  {
   "cell_type": "code",
   "execution_count": 36,
   "metadata": {},
   "outputs": [
    {
     "name": "stdout",
     "output_type": "stream",
     "text": [
      "La ruta \"/datasets/faces/final_files/\" tiene 7591 archivos\n"
     ]
    }
   ],
   "source": [
    "'''RUTA DE IMAGENES'''\n",
    "path='/datasets/faces/final_files/'\n",
    "files= os.listdir(path)\n",
    "print(f'La ruta \"{path}\" tiene {len(files)} archivos')\n"
   ]
  },
  {
   "cell_type": "markdown",
   "metadata": {},
   "source": [
    "Se corrobora que tenemos 7,591 frente a los 7,600 anteriormente mencionados. Es decir 9 imagenes menos. Esto no representará un problema para el proyecto pero se estipulara como comentario."
   ]
  },
  {
   "cell_type": "markdown",
   "metadata": {},
   "source": [
    "## EDA"
   ]
  },
  {
   "cell_type": "code",
   "execution_count": 37,
   "metadata": {},
   "outputs": [
    {
     "data": {
      "text/html": [
       "<div>\n",
       "<style scoped>\n",
       "    .dataframe tbody tr th:only-of-type {\n",
       "        vertical-align: middle;\n",
       "    }\n",
       "\n",
       "    .dataframe tbody tr th {\n",
       "        vertical-align: top;\n",
       "    }\n",
       "\n",
       "    .dataframe thead th {\n",
       "        text-align: right;\n",
       "    }\n",
       "</style>\n",
       "<table border=\"1\" class=\"dataframe\">\n",
       "  <thead>\n",
       "    <tr style=\"text-align: right;\">\n",
       "      <th></th>\n",
       "      <th>file_name</th>\n",
       "      <th>real_age</th>\n",
       "    </tr>\n",
       "  </thead>\n",
       "  <tbody>\n",
       "    <tr>\n",
       "      <th>1806</th>\n",
       "      <td>001806.jpg</td>\n",
       "      <td>19</td>\n",
       "    </tr>\n",
       "    <tr>\n",
       "      <th>4281</th>\n",
       "      <td>004281.jpg</td>\n",
       "      <td>25</td>\n",
       "    </tr>\n",
       "    <tr>\n",
       "      <th>5197</th>\n",
       "      <td>005197.jpg</td>\n",
       "      <td>37</td>\n",
       "    </tr>\n",
       "    <tr>\n",
       "      <th>5363</th>\n",
       "      <td>005363.jpg</td>\n",
       "      <td>45</td>\n",
       "    </tr>\n",
       "    <tr>\n",
       "      <th>6326</th>\n",
       "      <td>006330.jpg</td>\n",
       "      <td>18</td>\n",
       "    </tr>\n",
       "    <tr>\n",
       "      <th>2370</th>\n",
       "      <td>002370.jpg</td>\n",
       "      <td>25</td>\n",
       "    </tr>\n",
       "    <tr>\n",
       "      <th>3524</th>\n",
       "      <td>003524.jpg</td>\n",
       "      <td>23</td>\n",
       "    </tr>\n",
       "    <tr>\n",
       "      <th>3395</th>\n",
       "      <td>003395.jpg</td>\n",
       "      <td>19</td>\n",
       "    </tr>\n",
       "    <tr>\n",
       "      <th>3173</th>\n",
       "      <td>003173.jpg</td>\n",
       "      <td>15</td>\n",
       "    </tr>\n",
       "    <tr>\n",
       "      <th>4204</th>\n",
       "      <td>004204.jpg</td>\n",
       "      <td>22</td>\n",
       "    </tr>\n",
       "  </tbody>\n",
       "</table>\n",
       "</div>"
      ],
      "text/plain": [
       "       file_name  real_age\n",
       "1806  001806.jpg        19\n",
       "4281  004281.jpg        25\n",
       "5197  005197.jpg        37\n",
       "5363  005363.jpg        45\n",
       "6326  006330.jpg        18\n",
       "2370  002370.jpg        25\n",
       "3524  003524.jpg        23\n",
       "3395  003395.jpg        19\n",
       "3173  003173.jpg        15\n",
       "4204  004204.jpg        22"
      ]
     },
     "execution_count": 37,
     "metadata": {},
     "output_type": "execute_result"
    }
   ],
   "source": [
    "labels_df = pd.read_csv('/datasets/faces/labels.csv')\n",
    "\n",
    "labels_df.sample(10)"
   ]
  },
  {
   "cell_type": "code",
   "execution_count": 38,
   "metadata": {},
   "outputs": [
    {
     "data": {
      "text/html": [
       "<div>\n",
       "<style scoped>\n",
       "    .dataframe tbody tr th:only-of-type {\n",
       "        vertical-align: middle;\n",
       "    }\n",
       "\n",
       "    .dataframe tbody tr th {\n",
       "        vertical-align: top;\n",
       "    }\n",
       "\n",
       "    .dataframe thead th {\n",
       "        text-align: right;\n",
       "    }\n",
       "</style>\n",
       "<table border=\"1\" class=\"dataframe\">\n",
       "  <thead>\n",
       "    <tr style=\"text-align: right;\">\n",
       "      <th></th>\n",
       "      <th>real_age</th>\n",
       "    </tr>\n",
       "  </thead>\n",
       "  <tbody>\n",
       "    <tr>\n",
       "      <th>count</th>\n",
       "      <td>7591.000000</td>\n",
       "    </tr>\n",
       "    <tr>\n",
       "      <th>mean</th>\n",
       "      <td>31.201159</td>\n",
       "    </tr>\n",
       "    <tr>\n",
       "      <th>std</th>\n",
       "      <td>17.145060</td>\n",
       "    </tr>\n",
       "    <tr>\n",
       "      <th>min</th>\n",
       "      <td>1.000000</td>\n",
       "    </tr>\n",
       "    <tr>\n",
       "      <th>25%</th>\n",
       "      <td>20.000000</td>\n",
       "    </tr>\n",
       "    <tr>\n",
       "      <th>50%</th>\n",
       "      <td>29.000000</td>\n",
       "    </tr>\n",
       "    <tr>\n",
       "      <th>75%</th>\n",
       "      <td>41.000000</td>\n",
       "    </tr>\n",
       "    <tr>\n",
       "      <th>max</th>\n",
       "      <td>100.000000</td>\n",
       "    </tr>\n",
       "  </tbody>\n",
       "</table>\n",
       "</div>"
      ],
      "text/plain": [
       "          real_age\n",
       "count  7591.000000\n",
       "mean     31.201159\n",
       "std      17.145060\n",
       "min       1.000000\n",
       "25%      20.000000\n",
       "50%      29.000000\n",
       "75%      41.000000\n",
       "max     100.000000"
      ]
     },
     "execution_count": 38,
     "metadata": {},
     "output_type": "execute_result"
    }
   ],
   "source": [
    "labels_df.describe()"
   ]
  },
  {
   "cell_type": "code",
   "execution_count": 39,
   "metadata": {},
   "outputs": [
    {
     "data": {
      "image/png": "[encoded data removed]",
      "text/plain": [
       "<Figure size 640x480 with 1 Axes>"
      ]
     },
     "metadata": {},
     "output_type": "display_data"
    }
   ],
   "source": [
    "plt.hist(labels_df['real_age'])\n",
    "plt.show()"
   ]
  },
  {
   "cell_type": "markdown",
   "metadata": {},
   "source": [
    "Como podemos obvservar, las concentraciones de las edades en este directorio de imagenes se encuentran mayormente entre los 20's y los 40's siendo el grupo de los 30's el que presenta mayor frecuencia"
   ]
  },
  {
   "cell_type": "code",
   "execution_count": 40,
   "metadata": {},
   "outputs": [
    {
     "data": {
      "image/png": "[encoded data removed]",
      "text/plain": [
       "<Figure size 640x480 with 1 Axes>"
      ]
     },
     "metadata": {},
     "output_type": "display_data"
    }
   ],
   "source": [
    "plt.boxplot(labels_df['real_age'])\n",
    "plt.show()"
   ]
  },
  {
   "cell_type": "markdown",
   "metadata": {},
   "source": [
    "En este boxplot podemos confirmar lo antes mencionado, nuestra media se encuentra en el rango de los 30's. También, podemos observar que los rangos de los bigotes se encuentran entre 1 y los 70, siendo las edades superiores, valores átipicos pero presentes en nuestros resultados (como por ejemplo la persona con una edad de 100)."
   ]
  },
  {
   "cell_type": "markdown",
   "metadata": {},
   "source": [
    "### Conclusiones"
   ]
  },
  {
   "cell_type": "markdown",
   "metadata": {},
   "source": [
    "Los datos estan limpios y estables, la distribución de edades concuerda respecto a la distribución por edad en el mundo (src='https://www.indexmundi.com/es/mundo/distribucion_por_edad.html'). El modelado de datos con CNN podrá darnos buenos resultados."
   ]
  },
  {
   "cell_type": "markdown",
   "metadata": {},
   "source": [
    "## Modelado"
   ]
  },
  {
   "cell_type": "markdown",
   "metadata": {},
   "source": [
    "Define las funciones necesarias para entrenar tu modelo en la plataforma GPU y crear un solo script que las contenga todas junto con la sección de inicialización.\n",
    "\n",
    "Para facilitar esta tarea, puedes definirlas en este notebook y ejecutar un código listo en la siguiente sección para componer automáticamente el script.\n",
    "\n",
    "Los revisores del proyecto también verificarán las definiciones a continuación, para que puedan comprender cómo construiste el modelo."
   ]
  },
  {
   "cell_type": "code",
   "execution_count": 22,
   "metadata": {},
   "outputs": [],
   "source": [
    " datagen = ImageDataGenerator(validation_split=0.25, rescale=1/255.)"
   ]
  },
  {
   "cell_type": "code",
   "execution_count": 23,
   "metadata": {},
   "outputs": [],
   "source": [
    "def load_train(path):\n",
    "    \"\"\"\n",
    "    Carga de entrenamiento del conjunto de datos desde la ruta\n",
    "    \"\"\"\n",
    "    \n",
    "    train_gen_flow = datagen.flow_from_dataframe(\n",
    "        dataframe= pd.read_csv('D:/Tripleten/datasets/faces/labels.csv'),\n",
    "        directory= path, \n",
    "        x_col='file_name',\n",
    "        y_col='real_age',\n",
    "        target_size=(150,150), # La imagen mas pequeña es de 47,47\n",
    "        batch_size=16,\n",
    "        class_mode='raw',\n",
    "        seed=12345,\n",
    "        subset='training'\n",
    "    )\n",
    "\n",
    "    return train_gen_flow"
   ]
  },
  {
   "cell_type": "code",
   "execution_count": 25,
   "metadata": {},
   "outputs": [],
   "source": [
    "def load_test(path):\n",
    "    \n",
    "    \"\"\"\n",
    "    Carga de validación/prueba del conjunto de datos desde la ruta\n",
    "    \"\"\"\n",
    "    test_gen_flow = datagen.flow_from_dataframe(\n",
    "        dataframe= pd.read_csv('D:/Tripleten/datasets/faces/labels.csv'),\n",
    "        directory= path, \n",
    "        x_col='file_name',\n",
    "        y_col='real_age',\n",
    "        target_size=(150,150), # La imagen mas pequeña es de 47,47\n",
    "        batch_size=16,\n",
    "        class_mode='raw',\n",
    "        seed=12345,\n",
    "        subset='validation'\n",
    "    )\n",
    "    return test_gen_flow"
   ]
  },
  {
   "cell_type": "code",
   "execution_count": 30,
   "metadata": {},
   "outputs": [],
   "source": [
    "def create_model(input_shape):\n",
    "    \n",
    "    \"\"\"Definiendo el modelo\"\"\"\n",
    "    \n",
    "    base_model = Resnet50(\n",
    "        weights='imagenet',\n",
    "        include_top=False,\n",
    "        input_shape=input_shape)\n",
    "    \n",
    "    base_model.trainable=False\n",
    "    \n",
    "    model = Sequential(\n",
    "        [\n",
    "        base_model,\n",
    "        GlobalAveragePooling2D(),\n",
    "        Dense(1, activation='relu'), ### Preguntar esta parte\n",
    "        ]\n",
    "    )\n",
    "    model.compile(optimizer=Adam(learning_rate= 0.0001),loss='mean_squared_error', metrics=['mae'])\n",
    "\n",
    "    return model"
   ]
  },
  {
   "cell_type": "code",
   "execution_count": 33,
   "metadata": {},
   "outputs": [],
   "source": [
    "def train_model(model, train_data, test_data, batch_size=None, epochs=20,\n",
    "                steps_per_epoch=None, validation_steps=None):\n",
    "\n",
    "    \"\"\"\n",
    "    Entrena el modelo dados los parámetros\n",
    "    \"\"\"\n",
    "    \n",
    "    if steps_per_epoch is None:\n",
    "        steps_per_epoch = len(train_data)\n",
    "    if validation_steps is None:\n",
    "        validation_steps = len(test_data)\n",
    "\n",
    "    \n",
    "    model.fit(\n",
    "        train_data,\n",
    "        validation_data=test_data,\n",
    "        batch_size=batch_size,\n",
    "        epochs=epochs,\n",
    "        steps_per_epoch=steps_per_epoch,\n",
    "        validation_steps=validation_steps\n",
    "             )\n",
    "    \n",
    "    return model"
   ]
  },
  {
   "cell_type": "markdown",
   "metadata": {},
   "source": [
    "### Prepara el script para ejecutarlo en la plataforma GPU"
   ]
  },
  {
   "cell_type": "markdown",
   "metadata": {},
   "source": [
    "Una vez que hayas definido las funciones necesarias, puedes redactar un script para la plataforma GPU, descargarlo a través del menú \"File|Open...\" (Archivo|Abrir) y cargarlo más tarde para ejecutarlo en la plataforma GPU.\n",
    "\n",
    "Nota: el script debe incluir también la sección de inicialización. A continuación se muestra un ejemplo."
   ]
  },
  {
   "cell_type": "code",
   "execution_count": 34,
   "metadata": {},
   "outputs": [],
   "source": [
    "# prepara un script para ejecutarlo en la plataforma GPU\n",
    "\n",
    "init_str = \"\"\"\n",
    "import pandas as pd\n",
    "import tensorflow as tf\n",
    "\n",
    "from tensorflow.keras.preprocessing.image import ImageDataGenerator\n",
    "from tensorflow.keras.applications.resnet import ResNet50\n",
    "from tensorflow.keras.models import Sequential\n",
    "from tensorflow.keras.layers import GlobalAveragePooling2D, Dense, Dropout, Flatten\n",
    "from tensorflow.keras.optimizers import Adam\n",
    "\"\"\"\n",
    "\n",
    "import inspect\n",
    "\n",
    "with open('run_model_on_gpu.py', 'w') as f:\n",
    "    \n",
    "    f.write(init_str)\n",
    "    f.write('\\n\\n')\n",
    "        \n",
    "    for fn_name in [load_train, load_test, create_model, train_model]:\n",
    "        \n",
    "        src = inspect.getsource(fn_name)\n",
    "        f.write(src)\n",
    "        f.write('\\n\\n')"
   ]
  },
  {
   "cell_type": "markdown",
   "metadata": {},
   "source": [
    "### Resultado"
   ]
  },
  {
   "cell_type": "markdown",
   "metadata": {},
   "source": [
    "Coloca aquí el resultado de la plataforma GPU como una celda Markdown."
   ]
  },
  {
   "cell_type": "markdown",
   "metadata": {},
   "source": [
    "Train for 356 steps, validate for 119 steps\n",
    "Epoch 1/23\n",
    "2024-05-28 21:27:38.082060: I tensorflow/stream_executor/platform/default/dso_loader.cc:44] Successfully opened dynamic library libcublas.so.10\n",
    "2024-05-28 21:27:38.313882: I tensorflow/stream_executor/platform/default/dso_loader.cc:44] Successfully opened dynamic library libcudnn.so.7\n",
    "356/356 - 47s - loss: 223.6400 - mae: 11.4360 - val_loss: 309.1223 - val_mae: 13.0490\n",
    "Epoch 2/23\n",
    "356/356 - 38s - loss: 148.4378 - mae: 9.3597 - val_loss: 298.4119 - val_mae: 12.8272\n",
    "Epoch 3/23\n",
    "356/356 - 38s - loss: 128.0000 - mae: 8.6467 - val_loss: 215.8631 - val_mae: 10.7793\n",
    "Epoch 4/23\n",
    "356/356 - 38s - loss: 109.0916 - mae: 8.0215 - val_loss: 190.0480 - val_mae: 11.2995\n",
    "Epoch 5/23\n",
    "356/356 - 38s - loss: 93.0879 - mae: 7.3888 - val_loss: 136.6849 - val_mae: 8.7553\n",
    "Epoch 6/23\n",
    "356/356 - 38s - loss: 79.8182 - mae: 6.8526 - val_loss: 158.6466 - val_mae: 9.5397\n",
    "Epoch 7/23\n",
    "356/356 - 38s - loss: 68.0044 - mae: 6.3503 - val_loss: 125.1458 - val_mae: 8.5112\n",
    "Epoch 8/23\n",
    "356/356 - 38s - loss: 62.0038 - mae: 6.0753 - val_loss: 104.7177 - val_mae: 7.7440\n",
    "Epoch 9/23\n",
    "356/356 - 38s - loss: 51.6462 - mae: 5.5800 - val_loss: 109.3861 - val_mae: 8.0175\n",
    "Epoch 10/23\n",
    "356/356 - 40s - loss: 47.6364 - mae: 5.3328 - val_loss: 92.1688 - val_mae: 7.3101\n",
    "Epoch 11/23\n",
    "356/356 - 38s - loss: 40.9385 - mae: 4.8812 - val_loss: 223.6011 - val_mae: 12.1987\n",
    "Epoch 12/23\n",
    "356/356 - 38s - loss: 34.8084 - mae: 4.5803 - val_loss: 116.4056 - val_mae: 8.0484\n",
    "Epoch 13/23\n",
    "356/356 - 38s - loss: 28.1013 - mae: 4.0827 - val_loss: 91.1830 - val_mae: 7.2154\n",
    "Epoch 14/23\n",
    "356/356 - 38s - loss: 27.2839 - mae: 4.0450 - val_loss: 103.8520 - val_mae: 7.6005\n",
    "Epoch 15/23\n",
    "356/356 - 38s - loss: 28.1634 - mae: 4.0645 - val_loss: 120.8307 - val_mae: 8.4843\n",
    "Epoch 16/23\n",
    "356/356 - 38s - loss: 26.3836 - mae: 3.9835 - val_loss: 90.7478 - val_mae: 7.0941\n",
    "Epoch 17/23\n",
    "356/356 - 38s - loss: 21.9634 - mae: 3.6271 - val_loss: 90.5392 - val_mae: 7.2509\n",
    "Epoch 18/23\n",
    "356/356 - 38s - loss: 20.6232 - mae: 3.5156 - val_loss: 84.3007 - val_mae: 6.8676\n",
    "Epoch 19/23\n",
    "356/356 - 38s - loss: 19.3186 - mae: 3.4002 - val_loss: 87.6615 - val_mae: 7.0264\n",
    "Epoch 20/23\n",
    "356/356 - 38s - loss: 17.6347 - mae: 3.2226 - val_loss: 90.1937 - val_mae: 7.1047\n",
    "Epoch 21/23\n",
    "356/356 - 38s - loss: 17.2872 - mae: 3.1997 - val_loss: 89.0919 - val_mae: 7.2848\n",
    "Epoch 22/23\n",
    "356/356 - 38s - loss: 17.9529 - mae: 3.2405 - val_loss: 94.6801 - val_mae: 7.3355\n",
    "Epoch 23/23\n",
    "356/356 - 38s - loss: 18.6326 - mae: 3.3411 - val_loss: 89.4653 - val_mae: 7.2161\n",
    "WARNING:tensorflow:sample_weight modes were coerced from\n",
    "  ...\n",
    "    to  \n",
    "  ['...']\n",
    "119/119 - 9s - loss: 89.4653 - mae: 7.2161\n",
    "Test MAE: 7.2161"
   ]
  },
  {
   "cell_type": "markdown",
   "metadata": {},
   "source": [
    "## Conclusiones"
   ]
  },
  {
   "cell_type": "markdown",
   "metadata": {},
   "source": [
    "Durante la carga de los datos, se corroboró que tenemos 7,591 frente a los 7,600 anteriormente mencionados, esto no representa una afectación grave al entrenamiento de los modelos. También se analizó la coherencia de los datos de acuerdo con la distribución de los datos para el entrenamiento.\n",
    "\n",
    "Durante las primeras epocas del entrenamiento, los resultados de perdida eran mayores a 100 mse para los valores de entrenamiento y 160 para los valores de validación, sin embargo con el avance de las epocas se logró reducir los valores hasta obtener una perdida de 18.63 y un error medio absoluto de 3.34 para el conjunto de entrenamiento, mientras que para el conjunto de validación obtuvimos 89.4 de perdidad y un error medio absoluto de 7.2.\n",
    "\n",
    "Los resultados son satisfactorio de acuerdo al umbral establecido por superar de 8"
   ]
  },
  {
   "cell_type": "markdown",
   "metadata": {},
   "source": [
    "# Lista de revisión"
   ]
  },
  {
   "cell_type": "markdown",
   "metadata": {},
   "source": [
    "- [x]  El Notebook estaba abierto \n",
    "- [x]  El código no tiene errores\n",
    "- [x]  Las celdas con el código han sido colocadas en el orden de ejecución\n",
    "- [x]  Se realizó el análisis exploratorio de datos\n",
    "- [x]  Los resultados del análisis exploratorio de datos se presentan en el notebook final\n",
    "- [x]  El valor EAM del modelo no es superior a 8\n",
    "- [x]  El código de entrenamiento del modelo se copió en el notebook final\n",
    "- [x]  El resultado de entrenamiento del modelo se copió en el notebook final\n",
    "- [x]  Los hallazgos se proporcionaron con base en los resultados del entrenamiento del modelo"
   ]
  }
 ],
 "metadata": {
  "ExecuteTimeLog": [
   {
    "duration": 10,
    "start_time": "2024-05-27T17:15:38.020Z"
   },
   {
    "duration": 3,
    "start_time": "2024-05-27T17:15:47.234Z"
   },
   {
    "duration": 3,
    "start_time": "2024-05-27T17:16:04.897Z"
   },
   {
    "duration": 9,
    "start_time": "2024-05-27T17:16:12.055Z"
   },
   {
    "duration": 2616,
    "start_time": "2024-05-27T17:16:41.299Z"
   },
   {
    "duration": 4,
    "start_time": "2024-05-27T17:17:17.068Z"
   },
   {
    "duration": 753,
    "start_time": "2024-05-27T17:18:00.391Z"
   },
   {
    "duration": 9,
    "start_time": "2024-05-27T17:18:34.362Z"
   },
   {
    "duration": 32,
    "start_time": "2024-05-27T17:18:36.818Z"
   },
   {
    "duration": 4,
    "start_time": "2024-05-27T17:18:40.042Z"
   },
   {
    "duration": 4,
    "start_time": "2024-05-27T17:18:55.491Z"
   },
   {
    "duration": 37,
    "start_time": "2024-05-27T17:18:56.670Z"
   },
   {
    "duration": 4,
    "start_time": "2024-05-27T17:19:01.619Z"
   },
   {
    "duration": 411,
    "start_time": "2024-05-27T17:19:02.808Z"
   },
   {
    "duration": 3,
    "start_time": "2024-05-27T17:19:17.003Z"
   },
   {
    "duration": 8,
    "start_time": "2024-05-27T17:19:29.105Z"
   },
   {
    "duration": 7,
    "start_time": "2024-05-27T17:19:52.014Z"
   },
   {
    "duration": 9,
    "start_time": "2024-05-27T17:20:05.884Z"
   },
   {
    "duration": 8,
    "start_time": "2024-05-27T17:20:23.101Z"
   },
   {
    "duration": 18,
    "start_time": "2024-05-27T17:23:17.742Z"
   },
   {
    "duration": 21,
    "start_time": "2024-05-27T17:23:26.599Z"
   },
   {
    "duration": 17,
    "start_time": "2024-05-27T17:23:58.428Z"
   },
   {
    "duration": 3982,
    "start_time": "2024-05-27T17:24:51.589Z"
   },
   {
    "duration": 2747,
    "start_time": "2024-05-27T17:48:55.373Z"
   },
   {
    "duration": 9,
    "start_time": "2024-05-27T17:49:07.092Z"
   },
   {
    "duration": 24,
    "start_time": "2024-05-27T17:49:08.927Z"
   },
   {
    "duration": 19,
    "start_time": "2024-05-27T17:49:10.701Z"
   },
   {
    "duration": 179,
    "start_time": "2024-05-27T17:49:13.259Z"
   },
   {
    "duration": 144,
    "start_time": "2024-05-27T17:58:12.206Z"
   },
   {
    "duration": 7,
    "start_time": "2024-05-27T18:47:53.809Z"
   },
   {
    "duration": 3,
    "start_time": "2024-05-27T18:47:55.841Z"
   },
   {
    "duration": 6,
    "start_time": "2024-05-27T18:47:57.485Z"
   },
   {
    "duration": 4,
    "start_time": "2024-05-27T18:48:12.657Z"
   },
   {
    "duration": 6,
    "start_time": "2024-05-27T18:48:14.444Z"
   },
   {
    "duration": 5,
    "start_time": "2024-05-27T18:50:36.660Z"
   },
   {
    "duration": 4,
    "start_time": "2024-05-27T18:50:42.154Z"
   },
   {
    "duration": 8,
    "start_time": "2024-05-27T18:51:06.064Z"
   },
   {
    "duration": 7,
    "start_time": "2024-05-27T18:51:17.839Z"
   },
   {
    "duration": 5,
    "start_time": "2024-05-27T18:51:20.466Z"
   },
   {
    "duration": 5,
    "start_time": "2024-05-27T18:51:59.588Z"
   },
   {
    "duration": 4,
    "start_time": "2024-05-27T18:52:01.713Z"
   },
   {
    "duration": 4,
    "start_time": "2024-05-27T18:52:03.428Z"
   },
   {
    "duration": 5,
    "start_time": "2024-05-27T18:52:08.914Z"
   },
   {
    "duration": 5,
    "start_time": "2024-05-27T18:52:12.120Z"
   },
   {
    "duration": 5,
    "start_time": "2024-05-27T18:53:50.821Z"
   },
   {
    "duration": 8,
    "start_time": "2024-05-27T19:19:43.055Z"
   },
   {
    "duration": 7,
    "start_time": "2024-05-27T19:20:27.619Z"
   },
   {
    "duration": 7,
    "start_time": "2024-05-27T19:20:40.568Z"
   },
   {
    "duration": 5,
    "start_time": "2024-05-27T19:23:17.473Z"
   },
   {
    "duration": 9,
    "start_time": "2024-05-27T19:34:11.835Z"
   },
   {
    "duration": 7,
    "start_time": "2024-05-27T19:34:21.170Z"
   },
   {
    "duration": 6,
    "start_time": "2024-05-27T19:34:26.015Z"
   },
   {
    "duration": 23,
    "start_time": "2024-05-27T19:36:20.597Z"
   },
   {
    "duration": 8,
    "start_time": "2024-05-27T19:46:56.666Z"
   },
   {
    "duration": 9,
    "start_time": "2024-05-27T19:47:01.924Z"
   },
   {
    "duration": 22,
    "start_time": "2024-05-27T19:47:03.886Z"
   },
   {
    "duration": 19,
    "start_time": "2024-05-27T19:47:06.534Z"
   },
   {
    "duration": 186,
    "start_time": "2024-05-27T19:47:08.440Z"
   },
   {
    "duration": 184,
    "start_time": "2024-05-27T19:47:10.831Z"
   }
  ],
  "kernelspec": {
   "display_name": "Python 3 (ipykernel)",
   "language": "python",
   "name": "python3"
  },
  "language_info": {
   "codemirror_mode": {
    "name": "ipython",
    "version": 3
   },
   "file_extension": ".py",
   "mimetype": "text/x-python",
   "name": "python",
   "nbconvert_exporter": "python",
   "pygments_lexer": "ipython3",
   "version": "3.9.19"
  },
  "toc": {
   "base_numbering": 1,
   "nav_menu": {},
   "number_sections": true,
   "sideBar": true,
   "skip_h1_title": true,
   "title_cell": "Índice de contenido",
   "title_sidebar": "Contenido",
   "toc_cell": false,
   "toc_position": {},
   "toc_section_display": true,
   "toc_window_display": false
  }
 },
 "nbformat": 4,
 "nbformat_minor": 4
}
